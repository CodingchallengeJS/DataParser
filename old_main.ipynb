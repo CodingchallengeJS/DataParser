{
 "cells": [
  {
   "cell_type": "code",
   "execution_count": 17,
   "id": "61d3a5fd",
   "metadata": {},
   "outputs": [
    {
     "name": "stdout",
     "output_type": "stream",
     "text": [
      "Requirement already satisfied: selenium in c:\\users\\quang trung\\miniconda3\\lib\\site-packages (4.36.0)\n",
      "Requirement already satisfied: urllib3<3.0,>=2.5.0 in c:\\users\\quang trung\\miniconda3\\lib\\site-packages (from urllib3[socks]<3.0,>=2.5.0->selenium) (2.5.0)\n",
      "Requirement already satisfied: trio<1.0,>=0.30.0 in c:\\users\\quang trung\\miniconda3\\lib\\site-packages (from selenium) (0.31.0)\n",
      "Requirement already satisfied: trio-websocket<1.0,>=0.12.2 in c:\\users\\quang trung\\miniconda3\\lib\\site-packages (from selenium) (0.12.2)\n",
      "Requirement already satisfied: certifi>=2025.6.15 in c:\\users\\quang trung\\miniconda3\\lib\\site-packages (from selenium) (2025.8.3)\n",
      "Requirement already satisfied: typing_extensions<5.0,>=4.14.0 in c:\\users\\quang trung\\miniconda3\\lib\\site-packages (from selenium) (4.15.0)\n",
      "Requirement already satisfied: websocket-client<2.0,>=1.8.0 in c:\\users\\quang trung\\miniconda3\\lib\\site-packages (from selenium) (1.9.0)\n",
      "Requirement already satisfied: attrs>=23.2.0 in c:\\users\\quang trung\\miniconda3\\lib\\site-packages (from trio<1.0,>=0.30.0->selenium) (25.4.0)\n",
      "Requirement already satisfied: sortedcontainers in c:\\users\\quang trung\\miniconda3\\lib\\site-packages (from trio<1.0,>=0.30.0->selenium) (2.4.0)\n",
      "Requirement already satisfied: idna in c:\\users\\quang trung\\miniconda3\\lib\\site-packages (from trio<1.0,>=0.30.0->selenium) (3.7)\n",
      "Requirement already satisfied: outcome in c:\\users\\quang trung\\miniconda3\\lib\\site-packages (from trio<1.0,>=0.30.0->selenium) (1.3.0.post0)\n",
      "Requirement already satisfied: sniffio>=1.3.0 in c:\\users\\quang trung\\miniconda3\\lib\\site-packages (from trio<1.0,>=0.30.0->selenium) (1.3.1)\n",
      "Requirement already satisfied: cffi>=1.14 in c:\\users\\quang trung\\miniconda3\\lib\\site-packages (from trio<1.0,>=0.30.0->selenium) (1.17.1)\n",
      "Requirement already satisfied: wsproto>=0.14 in c:\\users\\quang trung\\miniconda3\\lib\\site-packages (from trio-websocket<1.0,>=0.12.2->selenium) (1.2.0)\n",
      "Requirement already satisfied: pysocks!=1.5.7,<2.0,>=1.5.6 in c:\\users\\quang trung\\miniconda3\\lib\\site-packages (from urllib3[socks]<3.0,>=2.5.0->selenium) (1.7.1)\n",
      "Requirement already satisfied: pycparser in c:\\users\\quang trung\\miniconda3\\lib\\site-packages (from cffi>=1.14->trio<1.0,>=0.30.0->selenium) (2.21)\n",
      "Requirement already satisfied: h11<1,>=0.9.0 in c:\\users\\quang trung\\miniconda3\\lib\\site-packages (from wsproto>=0.14->trio-websocket<1.0,>=0.12.2->selenium) (0.16.0)\n",
      "Note: you may need to restart the kernel to use updated packages.\n"
     ]
    }
   ],
   "source": [
    "%pip install selenium"
   ]
  },
  {
   "cell_type": "code",
   "execution_count": 18,
   "id": "de4e2400",
   "metadata": {},
   "outputs": [
    {
     "name": "stdout",
     "output_type": "stream",
     "text": [
      "['3 Đường Conic-- Hà Hữu Hải.pdf', 'Bài toán thực tế hình không gian-- Hà Hữu Hải.pdf', 'Bài toán thực tế về toán kinh tế-- Hà Hữu Hải.pdf', 'Bài toán tìm đường đi ngắn nhất và toán ứng dụng bpt-- Hà Hữu Hải.pdf', 'Bài toán ứng dụng tích phân-- Hà Hữu Hải.pdf']\n",
      "['1. Đề chắc điểm 8+ đến 9 số 1( phát triển minh họa)-- Hà Hữu Hải.pdf', '10. Đề chắc điểm 8+ đến 9 số 10( phát triển minh họa)-- Hà Hữu Hải.pdf', '2. Đề chắc điểm 8+ đến 9 số 2( phát triển minh họa)-- Hà Hữu Hải.pdf', '3. Đề chắc điểm 8+ đến 9 số 3( phát triển minh họa)-- Hà Hữu Hải.pdf', '4. Đề chắc điểm 8+ đến 9 số 4( phát triển minh họa)-- Hà Hữu Hải.pdf', '5. Đề chắc điểm 8+ đến 9 số 5( phát triển minh họa)-- Hà Hữu Hải.pdf', '6. Đề chắc điểm 8+ đến 9 số 6( phát triển minh họa)-- Hà Hữu Hải.pdf', '7. Đề chắc điểm 8+ đến 9 số 7( phát triển minh họa)-- Hà Hữu Hải.pdf', '8. Đề chắc điểm 8+ đến 9 số 8( phát triển minh họa)-- Hà Hữu Hải.pdf', '9. Đề chắc điểm 8+ đến 9 số 9( phát triển minh họa)-- Hà Hữu Hải.pdf']\n",
      "['1. Đề quan trọng--Chuyên Vinh lần 2.pdf', '2. Đề quan trọng-- Chuyên Phan Bội Châu Nghệ An.pdf', '3. Đề quan trọng--Sở Nam Định lần 2.pdf', '4. Đề quan trọng--Cụm trường Hưng Yên.pdf', '5. Đề quan trọng--Sở Hà Tĩnh.pdf']\n"
     ]
    }
   ],
   "source": [
    "data_dir = \"MathTHPT2025\"\n",
    "loading_folder = [\"1.Chuyen de\", \"2.De chac diem 8\", \"5.De quan trong\"]\n",
    "\n",
    "import os\n",
    "\n",
    "for folder in loading_folder:\n",
    "    pdf_files = []\n",
    "    folder_path = os.path.join(data_dir, folder)\n",
    "    for file in os.listdir(folder_path):\n",
    "        if file.lower().endswith('.pdf'):\n",
    "            pdf_files.append(file)\n",
    "    print(pdf_files)"
   ]
  },
  {
   "cell_type": "code",
   "execution_count": 19,
   "id": "e3d1f309",
   "metadata": {},
   "outputs": [],
   "source": [
    "from selenium import webdriver\n",
    "from selenium.webdriver.common.by import By"
   ]
  },
  {
   "cell_type": "code",
   "execution_count": 20,
   "id": "1c54a88f",
   "metadata": {},
   "outputs": [],
   "source": [
    "from selenium import webdriver\n",
    "from selenium.webdriver.chrome.options import Options\n",
    "\n",
    "options = Options()\n",
    "\n",
    "driver = webdriver.Chrome(options=options)"
   ]
  },
  {
   "cell_type": "code",
   "execution_count": 21,
   "id": "6a4815af",
   "metadata": {},
   "outputs": [
    {
     "name": "stdout",
     "output_type": "stream",
     "text": [
      "Page loaded\n"
     ]
    }
   ],
   "source": [
    "from selenium.webdriver.support.ui import WebDriverWait\n",
    "import time\n",
    "\n",
    "driver.get(\"https://dotsocr.xiaohongshu.com/\")\n",
    "# wait for full page load (document.readyState) and for a key element to appear\n",
    "try:\n",
    "    wait = WebDriverWait(driver, 60)\n",
    "except NameError:\n",
    "    wait = WebDriverWait(driver, 60)\n",
    "\n",
    "try:\n",
    "    wait.until(lambda d: d.execute_script(\"return document.readyState\") == \"complete\")\n",
    "    # also wait for a known interactive element (parse button or file input) to be present\n",
    "    try:\n",
    "        wait.until(EC.presence_of_element_located((By.ID, \"parse_button\")))\n",
    "    except Exception:\n",
    "        try:\n",
    "            wait.until(EC.presence_of_element_located((By.CSS_SELECTOR, \"input[type='file']\")))\n",
    "        except Exception:\n",
    "            pass\n",
    "    time.sleep(1)  # small buffer for any remaining JS\n",
    "    print(\"Page loaded\")\n",
    "except Exception as e:\n",
    "    print(\"Timeout waiting for page to load:\", e)"
   ]
  },
  {
   "cell_type": "code",
   "execution_count": 22,
   "id": "b0781dfa",
   "metadata": {},
   "outputs": [
    {
     "ename": "NoSuchElementException",
     "evalue": "Message: no such element: Unable to locate element: {\"method\":\"css selector\",\"selector\":\"input[type='file'][data-testid='file-upload']\"}\n  (Session info: chrome=141.0.7390.78); For documentation on this error, please visit: https://www.selenium.dev/documentation/webdriver/troubleshooting/errors#nosuchelementexception\nStacktrace:\n\tGetHandleVerifier [0x0x7ff6ce8fe9e5+80021]\n\tGetHandleVerifier [0x0x7ff6ce8fea40+80112]\n\t(No symbol) [0x0x7ff6ce68060f]\n\t(No symbol) [0x0x7ff6ce6d8854]\n\t(No symbol) [0x0x7ff6ce6d8b1c]\n\t(No symbol) [0x0x7ff6ce72c927]\n\t(No symbol) [0x0x7ff6ce70126f]\n\t(No symbol) [0x0x7ff6ce72968a]\n\t(No symbol) [0x0x7ff6ce701003]\n\t(No symbol) [0x0x7ff6ce6c95d1]\n\t(No symbol) [0x0x7ff6ce6ca3f3]\n\tGetHandleVerifier [0x0x7ff6cebbdd8d+2960445]\n\tGetHandleVerifier [0x0x7ff6cebb804a+2936570]\n\tGetHandleVerifier [0x0x7ff6cebd8a87+3070263]\n\tGetHandleVerifier [0x0x7ff6ce9184ce+185214]\n\tGetHandleVerifier [0x0x7ff6ce91ff1f+216527]\n\tGetHandleVerifier [0x0x7ff6ce907c24+117460]\n\tGetHandleVerifier [0x0x7ff6ce907ddf+117903]\n\tGetHandleVerifier [0x0x7ff6ce8edcb8+11112]\n\tBaseThreadInitThunk [0x0x7ffcd283e8d7+23]\n\tRtlUserThreadStart [0x0x7ffcd35ec53c+44]\n",
     "output_type": "error",
     "traceback": [
      "\u001b[31m---------------------------------------------------------------------------\u001b[39m",
      "\u001b[31mNoSuchElementException\u001b[39m                    Traceback (most recent call last)",
      "\u001b[36mCell\u001b[39m\u001b[36m \u001b[39m\u001b[32mIn[22]\u001b[39m\u001b[32m, line 4\u001b[39m\n\u001b[32m      1\u001b[39m file_path = os.path.abspath(os.path.join(\u001b[33m\"\u001b[39m\u001b[33mMathTHPT2025/1.Chuyen de/Bài toán thực tế hình không gian-- Hà Hữu Hải.pdf\u001b[39m\u001b[33m\"\u001b[39m))\n\u001b[32m      3\u001b[39m \u001b[38;5;66;03m# locate the hidden file input and send the file path to upload\u001b[39;00m\n\u001b[32m----> \u001b[39m\u001b[32m4\u001b[39m file_input = \u001b[43mdriver\u001b[49m\u001b[43m.\u001b[49m\u001b[43mfind_element\u001b[49m\u001b[43m(\u001b[49m\u001b[43mBy\u001b[49m\u001b[43m.\u001b[49m\u001b[43mCSS_SELECTOR\u001b[49m\u001b[43m,\u001b[49m\u001b[43m \u001b[49m\u001b[33;43m\"\u001b[39;49m\u001b[33;43minput[type=\u001b[39;49m\u001b[33;43m'\u001b[39;49m\u001b[33;43mfile\u001b[39;49m\u001b[33;43m'\u001b[39;49m\u001b[33;43m][data-testid=\u001b[39;49m\u001b[33;43m'\u001b[39;49m\u001b[33;43mfile-upload\u001b[39;49m\u001b[33;43m'\u001b[39;49m\u001b[33;43m]\u001b[39;49m\u001b[33;43m\"\u001b[39;49m\u001b[43m)\u001b[49m\n\u001b[32m      5\u001b[39m file_input.send_keys(file_path)\n\u001b[32m      7\u001b[39m \u001b[38;5;28mprint\u001b[39m(\u001b[33m\"\u001b[39m\u001b[33mSent file to upload input:\u001b[39m\u001b[33m\"\u001b[39m, file_path)\n",
      "\u001b[36mFile \u001b[39m\u001b[32mc:\\Users\\QUANG TRUNG\\miniconda3\\Lib\\site-packages\\selenium\\webdriver\\remote\\webdriver.py:926\u001b[39m, in \u001b[36mWebDriver.find_element\u001b[39m\u001b[34m(self, by, value)\u001b[39m\n\u001b[32m    923\u001b[39m         \u001b[38;5;28;01mraise\u001b[39;00m NoSuchElementException(\u001b[33mf\u001b[39m\u001b[33m\"\u001b[39m\u001b[33mCannot locate relative element with: \u001b[39m\u001b[38;5;132;01m{\u001b[39;00mby.root\u001b[38;5;132;01m}\u001b[39;00m\u001b[33m\"\u001b[39m)\n\u001b[32m    924\u001b[39m     \u001b[38;5;28;01mreturn\u001b[39;00m elements[\u001b[32m0\u001b[39m]\n\u001b[32m--> \u001b[39m\u001b[32m926\u001b[39m \u001b[38;5;28;01mreturn\u001b[39;00m \u001b[38;5;28;43mself\u001b[39;49m\u001b[43m.\u001b[49m\u001b[43mexecute\u001b[49m\u001b[43m(\u001b[49m\u001b[43mCommand\u001b[49m\u001b[43m.\u001b[49m\u001b[43mFIND_ELEMENT\u001b[49m\u001b[43m,\u001b[49m\u001b[43m \u001b[49m\u001b[43m{\u001b[49m\u001b[33;43m\"\u001b[39;49m\u001b[33;43musing\u001b[39;49m\u001b[33;43m\"\u001b[39;49m\u001b[43m:\u001b[49m\u001b[43m \u001b[49m\u001b[43mby\u001b[49m\u001b[43m,\u001b[49m\u001b[43m \u001b[49m\u001b[33;43m\"\u001b[39;49m\u001b[33;43mvalue\u001b[39;49m\u001b[33;43m\"\u001b[39;49m\u001b[43m:\u001b[49m\u001b[43m \u001b[49m\u001b[43mvalue\u001b[49m\u001b[43m}\u001b[49m\u001b[43m)\u001b[49m[\u001b[33m\"\u001b[39m\u001b[33mvalue\u001b[39m\u001b[33m\"\u001b[39m]\n",
      "\u001b[36mFile \u001b[39m\u001b[32mc:\\Users\\QUANG TRUNG\\miniconda3\\Lib\\site-packages\\selenium\\webdriver\\remote\\webdriver.py:458\u001b[39m, in \u001b[36mWebDriver.execute\u001b[39m\u001b[34m(self, driver_command, params)\u001b[39m\n\u001b[32m    455\u001b[39m response = cast(RemoteConnection, \u001b[38;5;28mself\u001b[39m.command_executor).execute(driver_command, params)\n\u001b[32m    457\u001b[39m \u001b[38;5;28;01mif\u001b[39;00m response:\n\u001b[32m--> \u001b[39m\u001b[32m458\u001b[39m     \u001b[38;5;28;43mself\u001b[39;49m\u001b[43m.\u001b[49m\u001b[43merror_handler\u001b[49m\u001b[43m.\u001b[49m\u001b[43mcheck_response\u001b[49m\u001b[43m(\u001b[49m\u001b[43mresponse\u001b[49m\u001b[43m)\u001b[49m\n\u001b[32m    459\u001b[39m     response[\u001b[33m\"\u001b[39m\u001b[33mvalue\u001b[39m\u001b[33m\"\u001b[39m] = \u001b[38;5;28mself\u001b[39m._unwrap_value(response.get(\u001b[33m\"\u001b[39m\u001b[33mvalue\u001b[39m\u001b[33m\"\u001b[39m, \u001b[38;5;28;01mNone\u001b[39;00m))\n\u001b[32m    460\u001b[39m     \u001b[38;5;28;01mreturn\u001b[39;00m response\n",
      "\u001b[36mFile \u001b[39m\u001b[32mc:\\Users\\QUANG TRUNG\\miniconda3\\Lib\\site-packages\\selenium\\webdriver\\remote\\errorhandler.py:232\u001b[39m, in \u001b[36mErrorHandler.check_response\u001b[39m\u001b[34m(self, response)\u001b[39m\n\u001b[32m    230\u001b[39m         alert_text = value[\u001b[33m\"\u001b[39m\u001b[33malert\u001b[39m\u001b[33m\"\u001b[39m].get(\u001b[33m\"\u001b[39m\u001b[33mtext\u001b[39m\u001b[33m\"\u001b[39m)\n\u001b[32m    231\u001b[39m     \u001b[38;5;28;01mraise\u001b[39;00m exception_class(message, screen, stacktrace, alert_text)  \u001b[38;5;66;03m# type: ignore[call-arg]  # mypy is not smart enough here\u001b[39;00m\n\u001b[32m--> \u001b[39m\u001b[32m232\u001b[39m \u001b[38;5;28;01mraise\u001b[39;00m exception_class(message, screen, stacktrace)\n",
      "\u001b[31mNoSuchElementException\u001b[39m: Message: no such element: Unable to locate element: {\"method\":\"css selector\",\"selector\":\"input[type='file'][data-testid='file-upload']\"}\n  (Session info: chrome=141.0.7390.78); For documentation on this error, please visit: https://www.selenium.dev/documentation/webdriver/troubleshooting/errors#nosuchelementexception\nStacktrace:\n\tGetHandleVerifier [0x0x7ff6ce8fe9e5+80021]\n\tGetHandleVerifier [0x0x7ff6ce8fea40+80112]\n\t(No symbol) [0x0x7ff6ce68060f]\n\t(No symbol) [0x0x7ff6ce6d8854]\n\t(No symbol) [0x0x7ff6ce6d8b1c]\n\t(No symbol) [0x0x7ff6ce72c927]\n\t(No symbol) [0x0x7ff6ce70126f]\n\t(No symbol) [0x0x7ff6ce72968a]\n\t(No symbol) [0x0x7ff6ce701003]\n\t(No symbol) [0x0x7ff6ce6c95d1]\n\t(No symbol) [0x0x7ff6ce6ca3f3]\n\tGetHandleVerifier [0x0x7ff6cebbdd8d+2960445]\n\tGetHandleVerifier [0x0x7ff6cebb804a+2936570]\n\tGetHandleVerifier [0x0x7ff6cebd8a87+3070263]\n\tGetHandleVerifier [0x0x7ff6ce9184ce+185214]\n\tGetHandleVerifier [0x0x7ff6ce91ff1f+216527]\n\tGetHandleVerifier [0x0x7ff6ce907c24+117460]\n\tGetHandleVerifier [0x0x7ff6ce907ddf+117903]\n\tGetHandleVerifier [0x0x7ff6ce8edcb8+11112]\n\tBaseThreadInitThunk [0x0x7ffcd283e8d7+23]\n\tRtlUserThreadStart [0x0x7ffcd35ec53c+44]\n"
     ]
    }
   ],
   "source": [
    "file_path = os.path.abspath(os.path.join(\"MathTHPT2025/1.Chuyen de/Bài toán thực tế hình không gian-- Hà Hữu Hải.pdf\"))\n",
    "\n",
    "# locate the hidden file input and send the file path to upload\n",
    "file_input = driver.find_element(By.CSS_SELECTOR, \"input[type='file'][data-testid='file-upload']\")\n",
    "file_input.send_keys(file_path)\n",
    "\n",
    "print(\"Sent file to upload input:\", file_path)\n",
    "# wait for uploading indicator to disappear\n",
    "upload_selector = \"span.uploading\"\n",
    "try:\n",
    "    upload_wait = WebDriverWait(driver, timeout)\n",
    "    upload_wait.until(EC.invisibility_of_element_located((By.CSS_SELECTOR, upload_selector)))\n",
    "    print(\"Upload indicator disappeared\")\n",
    "except Exception as e:\n",
    "    print(\"Timeout waiting for upload indicator to disappear:\", e)\n",
    "time.sleep(2)\n",
    "parse_btn = driver.find_element(By.ID, \"parse_button\")\n",
    "parse_btn.click()\n",
    "print(\"Clicked parse button\")"
   ]
  },
  {
   "cell_type": "code",
   "execution_count": null,
   "id": "daaf850a",
   "metadata": {},
   "outputs": [
    {
     "name": "stdout",
     "output_type": "stream",
     "text": [
      "Download button found, clicking...\n",
      "Downloaded file: layout_results_1d0e6e9e.zip\n"
     ]
    }
   ],
   "source": [
    "from selenium.webdriver.support.ui import WebDriverWait\n",
    "from selenium.webdriver.support import expected_conditions as EC\n",
    "import time\n",
    "\n",
    "# set Chrome to download to current working directory\n",
    "download_dir = os.getcwd()\n",
    "try:\n",
    "    driver.execute_cdp_cmd(\"Page.setDownloadBehavior\", {\"behavior\": \"allow\", \"downloadPath\": download_dir})\n",
    "except Exception as e:\n",
    "    print(\"Could not set download directory via CDP:\", e)\n",
    "\n",
    "# wait for the \"⬇️ Download Results\" button by id and click it\n",
    "wait = WebDriverWait(driver, 120)\n",
    "btn = wait.until(EC.element_to_be_clickable((By.ID, \"component-45\")))\n",
    "print(\"Download button found, clicking...\")\n",
    "before_files = set(os.listdir(download_dir))\n",
    "btn.click()\n",
    "\n",
    "# wait for a new file to appear and complete (no .crdownload suffix)\n",
    "timeout = 1800\n",
    "end_time = time.time() + timeout\n",
    "downloaded = None\n",
    "while time.time() < end_time:\n",
    "    time.sleep(0.5)\n",
    "    new_files = set(os.listdir(download_dir)) - before_files\n",
    "    if new_files:\n",
    "        for f in new_files:\n",
    "            if not f.endswith('.crdownload'):\n",
    "                downloaded = f\n",
    "                break\n",
    "    if downloaded:\n",
    "        break\n",
    "\n",
    "if downloaded:\n",
    "    print(\"Downloaded file:\", downloaded)\n",
    "else:\n",
    "    print(\"No completed download detected within timeout.\")"
   ]
  },
  {
   "cell_type": "code",
   "execution_count": null,
   "id": "c8199632",
   "metadata": {},
   "outputs": [
    {
     "data": {
      "text/plain": [
       "'layout_results_1d0e6e9e.zip'"
      ]
     },
     "execution_count": 114,
     "metadata": {},
     "output_type": "execute_result"
    }
   ],
   "source": [
    "downloaded"
   ]
  },
  {
   "cell_type": "code",
   "execution_count": null,
   "id": "a09586f6",
   "metadata": {},
   "outputs": [
    {
     "name": "stdout",
     "output_type": "stream",
     "text": [
      "Extracted: d:\\Python\\DataForge-automated\\layout_results_1d0e6e9e.zip -> d:\\Python\\DataForge-automated\\output\n"
     ]
    }
   ],
   "source": [
    "import os, zipfile\n",
    "\n",
    "zip_path = os.path.join(download_dir, downloaded)  # uses existing vars\n",
    "extract_to = os.path.join(download_dir, \"output\")\n",
    "\n",
    "with zipfile.ZipFile(zip_path, 'r') as z:\n",
    "    z.extractall(extract_to)\n",
    "\n",
    "print(\"Extracted:\", zip_path, \"->\", extract_to)"
   ]
  },
  {
   "cell_type": "code",
   "execution_count": null,
   "id": "df03574d",
   "metadata": {},
   "outputs": [
    {
     "name": "stdout",
     "output_type": "stream",
     "text": [
      "Merged pages into: d:\\Python\\DataForge-automated\\output\\final.md\n"
     ]
    }
   ],
   "source": [
    "# merge demo_..._page_{i}.md (pages 1..13) into output/final.md\n",
    "# uses existing variables: extract_to, f, os\n",
    "\n",
    "suffix = os.path.splitext(f)[0].split('_')[-1]  # e.g. 'ef13eefa' from 'layout_results_ef13eefa.zip'\n",
    "final_path = os.path.join(extract_to, \"final.md\")\n",
    "\n",
    "with open(final_path, \"w\", encoding=\"utf-8\") as out_f:\n",
    "    for i in range(1, 35):\n",
    "        part_name = f\"demo_{suffix}_page_{i}.md\"\n",
    "        part_path = os.path.join(extract_to, part_name)\n",
    "        if not os.path.exists(part_path):\n",
    "            print(\"Missing:\", part_name)\n",
    "            continue\n",
    "        with open(part_path, \"r\", encoding=\"utf-8\") as part_f:\n",
    "            content = part_f.read()\n",
    "        # separate pages with two newlines to keep markdown blocks distinct\n",
    "        out_f.write(content)\n",
    "        if i != 13:\n",
    "            out_f.write(\"\\n\\n\")\n",
    "\n",
    "print(\"Merged pages into:\", final_path)"
   ]
  },
  {
   "cell_type": "code",
   "execution_count": null,
   "id": "f0a18e91",
   "metadata": {},
   "outputs": [],
   "source": []
  },
  {
   "cell_type": "code",
   "execution_count": null,
   "id": "8235ba93",
   "metadata": {},
   "outputs": [],
   "source": [
    "driver.close()"
   ]
  }
 ],
 "metadata": {
  "kernelspec": {
   "display_name": "base",
   "language": "python",
   "name": "python3"
  },
  "language_info": {
   "codemirror_mode": {
    "name": "ipython",
    "version": 3
   },
   "file_extension": ".py",
   "mimetype": "text/x-python",
   "name": "python",
   "nbconvert_exporter": "python",
   "pygments_lexer": "ipython3",
   "version": "3.13.5"
  }
 },
 "nbformat": 4,
 "nbformat_minor": 5
}
